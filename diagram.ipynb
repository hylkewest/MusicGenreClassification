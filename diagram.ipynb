{
 "cells": [
  {
   "cell_type": "code",
   "id": "initial_id",
   "metadata": {
    "collapsed": true,
    "ExecuteTime": {
     "end_time": "2025-01-31T15:24:51.314253Z",
     "start_time": "2025-01-31T15:24:50.758399Z"
    }
   },
   "source": [
    "import graphviz\n",
    "\n",
    "dot = graphviz.Digraph(comment='Feature Extraction Pipeline', format='png')\n",
    "\n",
    "# Set layout to 'lr' (left-right)\n",
    "dot.attr(dpi='300', rankdir='LR')\n",
    "\n",
    "# Add nodes for each feature extraction step and set the shape to \"box\"\n",
    "dot.node('RawAudio', 'Audio Fragment', shape='box')\n",
    "dot.node('A', 'MFCCs\\n(20 coeffs)', shape='box')\n",
    "dot.node('B', 'Chroma STFT', shape='box')\n",
    "dot.node('C', 'RMS Energy', shape='box')\n",
    "dot.node('D', 'Spectral Centroid', shape='box')\n",
    "dot.node('E', 'Spectral Bandwidth', shape='box')\n",
    "dot.node('F', 'Spectral Rolloff', shape='box')\n",
    "dot.node('G', 'Zero Crossing Rate', shape='box')\n",
    "dot.node('H', 'Harmonics', shape='box')\n",
    "dot.node('I', 'Percussive', shape='box')\n",
    "dot.node('J', 'Tempo', shape='box')\n",
    "\n",
    "# Add detailed descriptions for each node and set the shape to \"ellipse\" for Mean/Var nodes\n",
    "dot.node('A_detail', 'Mean/Var', shape='ellipse')\n",
    "dot.node('B_detail', 'Mean/Var', shape='ellipse')\n",
    "dot.node('C_detail', 'Mean/Var', shape='ellipse')\n",
    "dot.node('D_detail', 'Mean/Var', shape='ellipse')\n",
    "dot.node('E_detail', 'Mean/Var', shape='ellipse')\n",
    "dot.node('F_detail', 'Mean/Var', shape='ellipse')\n",
    "dot.node('G_detail', 'Mean/Var', shape='ellipse')\n",
    "dot.node('H_detail', 'Mean/Var', shape='ellipse')\n",
    "dot.node('I_detail', 'Mean/Var', shape='ellipse')\n",
    "dot.node('J_detail', 'Mean/Var', shape='ellipse')\n",
    "\n",
    "# Connect the main nodes to the detailed descriptions\n",
    "dot.edge('A', 'A_detail')\n",
    "dot.edge('B', 'B_detail')\n",
    "dot.edge('C', 'C_detail')\n",
    "dot.edge('D', 'D_detail')\n",
    "dot.edge('E', 'E_detail')\n",
    "dot.edge('F', 'F_detail')\n",
    "dot.edge('G', 'G_detail')\n",
    "dot.edge('H', 'H_detail')\n",
    "dot.edge('I', 'I_detail')\n",
    "dot.edge('J', 'J_detail')\n",
    "\n",
    "# Add edges from raw audio to each feature extraction step\n",
    "dot.edge('RawAudio', 'A')\n",
    "dot.edge('RawAudio', 'B')\n",
    "dot.edge('RawAudio', 'C')\n",
    "dot.edge('RawAudio', 'D')\n",
    "dot.edge('RawAudio', 'E')\n",
    "dot.edge('RawAudio', 'F')\n",
    "dot.edge('RawAudio', 'G')\n",
    "dot.edge('RawAudio', 'H')\n",
    "dot.edge('RawAudio', 'I')\n",
    "dot.edge('RawAudio', 'J')\n",
    "\n",
    "# Final node for the 58-dimensional feature vector\n",
    "dot.node('Final', 'Feature Vector (58D)', shape='box')\n",
    "\n",
    "\n",
    "# Connect the feature extraction steps to the final vector\n",
    "dot.edge('A_detail', 'Final')\n",
    "dot.edge('B_detail', 'Final')\n",
    "dot.edge('C_detail', 'Final')\n",
    "dot.edge('D_detail', 'Final')\n",
    "dot.edge('E_detail', 'Final')\n",
    "dot.edge('F_detail', 'Final')\n",
    "dot.edge('G_detail', 'Final')\n",
    "dot.edge('H_detail', 'Final')\n",
    "dot.edge('I_detail', 'Final')\n",
    "dot.edge('J_detail', 'Final')\n",
    "\n",
    "dot.attr(label='Feature Extraction Pipeline Overview\\n', labelloc='t', fontsize='20')\n",
    "\n",
    "# Render the graph to a file and view it\n",
    "dot.render('feature_extraction_pipeline', view=True)"
   ],
   "outputs": [
    {
     "data": {
      "text/plain": [
       "'feature_extraction_pipeline.png'"
      ]
     },
     "execution_count": 29,
     "metadata": {},
     "output_type": "execute_result"
    }
   ],
   "execution_count": 29
  }
 ],
 "metadata": {
  "kernelspec": {
   "display_name": "Python 3",
   "language": "python",
   "name": "python3"
  },
  "language_info": {
   "codemirror_mode": {
    "name": "ipython",
    "version": 2
   },
   "file_extension": ".py",
   "mimetype": "text/x-python",
   "name": "python",
   "nbconvert_exporter": "python",
   "pygments_lexer": "ipython2",
   "version": "2.7.6"
  }
 },
 "nbformat": 4,
 "nbformat_minor": 5
}
